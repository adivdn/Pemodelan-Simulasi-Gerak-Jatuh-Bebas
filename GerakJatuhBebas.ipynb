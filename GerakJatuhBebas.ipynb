{
 "cells": [
  {
   "cell_type": "code",
   "execution_count": 1,
   "metadata": {},
   "outputs": [],
   "source": [
    "# -*- coding: utf-8 -*-\n",
    "\"\"\"\n",
    "Created on Thu Jan 30 21:45:47 2020\n",
    "\n",
    "@author: ADIV\n",
    "\"\"\"\n",
    "\n",
    "import matplotlib.pyplot as plt\n",
    "import numpy\n",
    "import math"
   ]
  },
  {
   "cell_type": "code",
   "execution_count": 2,
   "metadata": {},
   "outputs": [
    {
     "name": "stdout",
     "output_type": "stream",
     "text": [
      "Masukkan Ketinggian : 100\n",
      "Masukkan TimeDelta : 0.1\n",
      "4.4\n",
      "4.5\n",
      "4.6000000000000005\n",
      "4.5175395145262565\n"
     ]
    },
    {
     "data": {
      "image/png": "[encoded data removed]",
      "text/plain": [
       "<Figure size 432x288 with 1 Axes>"
      ]
     },
     "metadata": {
      "needs_background": "light"
     },
     "output_type": "display_data"
    }
   ],
   "source": [
    "arrayOftime1 = []\n",
    "arrayOftime2 = []\n",
    "arrayOfAnalitik = []\n",
    "arrayOfNumerik = []\n",
    "\n",
    "\n",
    "high = float(input('Masukkan Ketinggian : '))\n",
    "timedelta = float(input('Masukkan TimeDelta : '))\n",
    "\n",
    "g = 9.8\n",
    "time = float(math.sqrt(2*high/g))\n",
    "\n",
    "g = g * -1\n",
    "height = high\n",
    "\n",
    "speedNumerik = 0\n",
    "heightNumerik = high\n",
    "for x in numpy.arange(0, time+timedelta, timedelta):\n",
    "\n",
    "    speedNumerik = speedNumerik + (g * timedelta)\n",
    "    heightNumerik = heightNumerik + (speedNumerik * timedelta)\n",
    "    arrayOfNumerik.append(heightNumerik)\n",
    "    arrayOftime1.append(x)\n",
    "    if heightNumerik < 0:\n",
    "        print(x)\n",
    "        \n",
    "    \n",
    "for t in numpy.arange(0,time+timedelta,timedelta):\n",
    "    \n",
    "    height = high + (0.5 * g * t * t)\n",
    "    arrayOftime2.append(t)\n",
    "    arrayOfAnalitik.append(height)\n",
    "    \n",
    "\n",
    "print(time)\n",
    "plt.xlabel('Time')\n",
    "plt.ylabel('Height')\n",
    "plt.plot(arrayOftime1, arrayOfAnalitik, 'r-o')\n",
    "plt.plot(arrayOftime2, arrayOfNumerik,'b')\n",
    "plt.legend(['Analitik','Numerik'], loc = 'upper right')\n",
    "plt.ylim(0,high)\n",
    "plt.show()"
   ]
  },
  {
   "cell_type": "code",
   "execution_count": null,
   "metadata": {},
   "outputs": [],
   "source": []
  }
 ],
 "metadata": {
  "kernelspec": {
   "display_name": "Python 3",
   "language": "python",
   "name": "python3"
  },
  "language_info": {
   "codemirror_mode": {
    "name": "ipython",
    "version": 3
   },
   "file_extension": ".py",
   "mimetype": "text/x-python",
   "name": "python",
   "nbconvert_exporter": "python",
   "pygments_lexer": "ipython3",
   "version": "3.7.6"
  }
 },
 "nbformat": 4,
 "nbformat_minor": 4
}
